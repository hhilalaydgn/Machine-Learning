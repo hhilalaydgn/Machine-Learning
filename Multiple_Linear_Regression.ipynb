{
  "nbformat": 4,
  "nbformat_minor": 0,
  "metadata": {
    "colab": {
      "name": "Multiple-Linear-Regression.ipynb",
      "provenance": [],
      "authorship_tag": "ABX9TyPoLvhf+SbU0er6vbBML4cg",
      "include_colab_link": true
    },
    "kernelspec": {
      "name": "python3",
      "display_name": "Python 3"
    },
    "language_info": {
      "name": "python"
    }
  },
  "cells": [
    {
      "cell_type": "markdown",
      "metadata": {
        "id": "view-in-github",
        "colab_type": "text"
      },
      "source": [
        "<a href=\"https://colab.research.google.com/github/hhilalaydgn/Machine-Learning/blob/main/Multiple_Linear_Regression.ipynb\" target=\"_parent\"><img src=\"https://colab.research.google.com/assets/colab-badge.svg\" alt=\"Open In Colab\"/></a>"
      ]
    },
    {
      "cell_type": "code",
      "execution_count": 1,
      "metadata": {
        "id": "Ywasg1ZJOEKI"
      },
      "outputs": [],
      "source": [
        "import pandas as pd\n",
        "import numpy as np\n",
        "import matplotlib.pyplot as plt\n",
        "from sklearn.linear_model import LinearRegression"
      ]
    },
    {
      "cell_type": "code",
      "source": [
        "df = pd.read_csv(\"multiple-linear-regression-dataset.csv\",sep = \";\")\n",
        "\n",
        "x = df.iloc[:,[0,2]].values\n",
        "y = df.salary.values.reshape(-1,1)"
      ],
      "metadata": {
        "id": "8mWzuouVOP5S"
      },
      "execution_count": 2,
      "outputs": []
    },
    {
      "cell_type": "code",
      "source": [
        "multiple_linear_regression = LinearRegression()\n",
        "multiple_linear_regression.fit(x,y)\n",
        "\n",
        "print(\"b0: \", multiple_linear_regression.intercept_)\n",
        "print(\"b1,b2: \",multiple_linear_regression.coef_)"
      ],
      "metadata": {
        "colab": {
          "base_uri": "https://localhost:8080/"
        },
        "id": "tHLoPZG2OVS6",
        "outputId": "4413cd91-2cb1-4a96-a1ef-ca722a1e2103"
      },
      "execution_count": 3,
      "outputs": [
        {
          "output_type": "stream",
          "name": "stdout",
          "text": [
            "b0:  [10376.62747228]\n",
            "b1,b2:  [[1525.50072054 -416.72218625]]\n"
          ]
        }
      ]
    },
    {
      "cell_type": "code",
      "source": [
        "multiple_linear_regression.predict(np.array([[10,35],[5,35]]))"
      ],
      "metadata": {
        "colab": {
          "base_uri": "https://localhost:8080/"
        },
        "id": "0EiVg0xWOaSX",
        "outputId": "63d8e1ca-a0b2-4b00-f3b0-a11263376c08"
      },
      "execution_count": 4,
      "outputs": [
        {
          "output_type": "execute_result",
          "data": {
            "text/plain": [
              "array([[11046.35815877],\n",
              "       [ 3418.85455609]])"
            ]
          },
          "metadata": {},
          "execution_count": 4
        }
      ]
    }
  ]
}